{
 "cells": [
  {
   "cell_type": "markdown",
   "metadata": {},
   "source": [
    "### 🧹 Data Cleaning Task\n",
    "Please clean the following dataset using Python and pandas.\n",
    "After you're done, simply click *Save Notebook* (or it will auto-save).\n",
    "\n",
    "**Instructions:**\n",
    "1. Run the first cell to load `data.csv`.\n",
    "2. Perform cleaning in the second cell.\n",
    "3. Save to `cleaned.csv` when finished.\n"
   ]
  },
  {
   "cell_type": "code",
   "execution_count": null,
   "metadata": {},
   "outputs": [],
   "source": [
    "import pandas as pd\n",
    "df = pd.read_csv('data.csv')\n",
    "df.head()"
   ]
  },
  {
   "cell_type": "code",
   "execution_count": null,
   "metadata": {},
   "outputs": [],
   "source": [
    "# Clean the data below (drop missing rows, fix typos, etc.)\n",
    "df = df.dropna()\n",
    "# Example: standardize city names, etc.\n",
    "# df['city'] = df['city'].str.title()\n"
   ]
  },
  {
   "cell_type": "code",
   "execution_count": null,
   "id": "ad6cd374",
   "metadata": {},
   "outputs": [],
   "source": [
    "import base64\n",
    "import requests\n",
    "import pyodide_http\n",
    "\n",
    "pyodide_http.patch_all()\n",
    "\n",
    "def upload_csv_file(csv_path: str, participant_id: str):\n",
    "    with open(csv_path, \"rb\") as f:\n",
    "        content_b64 = base64.b64encode(f.read()).decode(\"utf-8\")\n",
    "    \n",
    "    payload = {\n",
    "        \"participant_id\": participant_id,\n",
    "        \"filename\": csv_path,\n",
    "        \"content_b64\": content_b64\n",
    "    }\n",
    "    url = \"https://notebook-mirror.onrender.com/upload_csv\"\n",
    "    \n",
    "    \n",
    "    try:\n",
    "        res = requests.post(url, json=payload)\n",
    "        res.raise_for_status()\n",
    "        print(\"✅ Upload successful:\", res.json())\n",
    "    except Exception as e:\n",
    "        print(\"❌ Upload failed:\", e)\n",
    "\n",
    "\n",
    "df.to_csv('cleaned.csv', index=False)\n",
    "\n",
    "participant_id = \"user_abcdef\" \n",
    "upload_csv_file(\"cleaned.csv\", participant_id)\n"
   ]
  }
 ],
 "metadata": {
  "kernelspec": {
   "display_name": "Python 3",
   "language": "python",
   "name": "python3"
  },
  "language_info": {
   "codemirror_mode": {
    "name": "ipython",
    "version": 3
   },
   "file_extension": ".py",
   "mimetype": "text/x-python",
   "name": "python",
   "nbconvert_exporter": "python",
   "pygments_lexer": "ipython3",
   "version": "3.x"
  }
 },
 "nbformat": 4,
 "nbformat_minor": 5
}
