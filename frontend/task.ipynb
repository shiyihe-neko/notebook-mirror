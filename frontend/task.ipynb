{
 "cells": [
  {
   "cell_type": "markdown",
   "metadata": {},
   "source": [
    "### 🧹 Data Cleaning Task\n",
    "Please clean the following dataset using Python and pandas.\n",
    "After you're done, simply click *Save Notebook* (or it will auto-save).\n",
    "\n",
    "**Instructions:**\n",
    "1. Run the first cell to load `data.csv`.\n",
    "2. Perform cleaning in the second cell.\n",
    "3. Save to `cleaned.csv` when finished.\n"
   ]
  },
  {
   "cell_type": "code",
   "metadata": {},
   "execution_count": null,
   "outputs": [],
   "source": [
    "import pandas as pd\n",
    "df = pd.read_csv('data.csv')\n",
    "df.head()"
   ]
  },
  {
   "cell_type": "code",
   "metadata": {},
   "execution_count": null,
   "outputs": [],
   "source": [
    "# Clean the data below (drop missing rows, fix typos, etc.)\n",
    "df = df.dropna()\n",
    "# Example: standardize city names, etc.\n",
    "# df['city'] = df['city'].str.title()\n",
    "\n",
    "df.to_csv('cleaned.csv', index=False)\n",
    "df.shape"
   ]
  }
 ],
 "metadata": {
  "kernelspec": {
   "display_name": "Python 3",
   "language": "python",
   "name": "python3"
  },
  "language_info": {
   "name": "python",
   "version": "3.x",
   "mimetype": "text/x-python",
   "codemirror_mode": {
    "name": "ipython",
    "version": 3
   },
   "pygments_lexer": "ipython3",
   "nbconvert_exporter": "python",
   "file_extension": ".py"
  }
 },
 "nbformat": 4,
 "nbformat_minor": 5
}